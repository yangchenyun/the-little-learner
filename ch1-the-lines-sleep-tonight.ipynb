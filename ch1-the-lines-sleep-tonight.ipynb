{
 "cells": [
  {
   "cell_type": "markdown",
   "id": "fff5c669",
   "metadata": {},
   "source": [
    "; First attempt to define line lambda"
   ]
  },
  {
   "cell_type": "code",
   "execution_count": null,
   "id": "00864600",
   "metadata": {},
   "outputs": [],
   "source": [
    "; Concepts:\n",
    "; - arguments\n",
    "; - parameters, determine the function output given arguments\n",
    "; - parameterized functions\n",
    ";   Used for figuring out values of parameters before returning y\n",
    ";   figure out result from \"possibilile values\""
   ]
  },
  {
   "cell_type": "code",
   "execution_count": null,
   "id": "2b79af4c",
   "metadata": {},
   "outputs": [],
   "source": [
    "; In the following case:\n",
    "; x is known prior to w and b, x is an argument; w and b are parameters\n",
    "(define line \n",
    "    (lambda (x)\n",
    "        (lambda (w b) (+ b (* x w)))))"
   ]
  },
  {
   "cell_type": "code",
   "execution_count": null,
   "id": "1415a4af",
   "metadata": {},
   "outputs": [],
   "source": [
    "((line 8) 4 6)"
   ]
  },
  {
   "cell_type": "code",
   "execution_count": null,
   "id": "c046484b",
   "metadata": {},
   "outputs": [],
   "source": [
    ";; data set\n",
    "(define line-xs '(2.0 1.0 4.0 3.0))\n",
    "(define line-ys '(1.8 1.2 4.2 3.3))"
   ]
  },
  {
   "cell_type": "markdown",
   "id": "d7e5bf54",
   "metadata": {},
   "source": [
    "Make plot on graph (Only works in REPL)\n",
    "\n",
    "(require plot)\n",
    "(plot-new-window? #t)\n",
    "(parameterize ([plot-width    150]\n",
    "                 [plot-height   150]\n",
    "                 [plot-x-label  #f]\n",
    "                 [plot-y-label  #f])\n",
    "    (list (plot (points (map vector line-xs line-ys)))))"
   ]
  },
  {
   "cell_type": "markdown",
   "id": "2bc7eb0c",
   "metadata": {},
   "source": [
    "Concepts:\n",
    "- learning. Finding parameters of a function from a dataset\n",
    "- parameter sets"
   ]
  },
  {
   "cell_type": "code",
   "execution_count": null,
   "id": "2e632ba2",
   "metadata": {},
   "outputs": [],
   "source": [
    ";; Rewrite y = wx + b with parameter sets\n",
    "(define first car)\n",
    "(define second (λ (l) (car (cdr l))))\n",
    "(define line\n",
    "    (lambda (x)\n",
    "        (lambda (θ) (+ (second θ) (* x (first θ))))))"
   ]
  },
  {
   "cell_type": "code",
   "execution_count": null,
   "id": "fa841b6f",
   "metadata": {},
   "outputs": [],
   "source": [
    "((line 7.3) (list 1.0 0.0))"
   ]
  },
  {
   "cell_type": "markdown",
   "id": "cfeb0d54",
   "metadata": {},
   "source": [
    "The Rule of Parameters (v1)\n",
    "- Every parameter is a number"
   ]
  }
 ],
 "metadata": {
  "jupytext": {
   "cell_metadata_filter": "-all"
  },
  "kernelspec": {
   "display_name": "Racket",
   "language": "racket",
   "name": "racket"
  }
 },
 "nbformat": 4,
 "nbformat_minor": 5
}
