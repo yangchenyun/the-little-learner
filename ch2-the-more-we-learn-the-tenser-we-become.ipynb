{
 "cells": [
  {
   "cell_type": "markdown",
   "id": "1afd25d6",
   "metadata": {
    "lines_to_next_cell": 2
   },
   "source": [
    "# Chapter 2 - The More We Learn, the Tenser We Become"
   ]
  },
  {
   "cell_type": "code",
   "execution_count": 7,
   "id": "3b24259a",
   "metadata": {
    "vscode": {
     "languageId": "racket"
    }
   },
   "outputs": [
    {
     "data": {
      "text/html": [
       "<code>7.3</code>"
      ],
      "text/plain": [
       "7.3"
      ]
     },
     "execution_count": 7,
     "metadata": {},
     "output_type": "execute_result"
    }
   ],
   "source": [
    "(require racket/include)\n",
    "(include \"ch1-the-lines-sleep-tonight.ss\")"
   ]
  },
  {
   "cell_type": "code",
   "execution_count": 8,
   "id": "4bee0589",
   "metadata": {
    "vscode": {
     "languageId": "racket"
    }
   },
   "outputs": [],
   "source": [
    ";; scalars = real numbers\n",
    "(define pi 3.141592653589793)"
   ]
  },
  {
   "cell_type": "markdown",
   "id": "8ffff96a",
   "metadata": {},
   "source": [
    "Reference\n",
    "\n",
    "George Boole (1815-1864) was a British mathematician and philosopher who is\n",
    "best known as the founder of Boolean algebra. His work on logic and algebra\n",
    "laid the foundations for modern digital computer logic, and his ideas have\n",
    "had a profound impact on the development of computer science."
   ]
  },
  {
   "cell_type": "code",
   "execution_count": 9,
   "id": "910359fe",
   "metadata": {
    "vscode": {
     "languageId": "racket"
    }
   },
   "outputs": [],
   "source": [
    ";; tensor one groups one or more scalars together\n",
    "(define tensor-1 '(5.0 7.18 pi))\n",
    "(define tensor-2 '((7 6 2 5) (3 8 6 9) (9 4 8 5)))"
   ]
  },
  {
   "cell_type": "markdown",
   "id": "92096f36",
   "metadata": {},
   "source": [
    "Reference\n",
    "\n",
    "Gregorio Ricci-Curbastro and Tullio Levi-Civita invented tensor calculus."
   ]
  },
  {
   "cell_type": "code",
   "execution_count": 10,
   "id": "3b272ddd",
   "metadata": {
    "vscode": {
     "languageId": "racket"
    }
   },
   "outputs": [
    {
     "data": {
      "text/html": [
       "<code>1</code>"
      ],
      "text/plain": [
       "1"
      ]
     },
     "execution_count": 10,
     "metadata": {},
     "output_type": "execute_result"
    }
   ],
   "source": [
    ";; Function to return number of tensors\n",
    "(define num-elements (lambda (t) (length t)))\n",
    "(num-elements tensor-2)\n",
    "(num-elements '[[[[8]]]])"
   ]
  },
  {
   "cell_type": "markdown",
   "id": "10a90813",
   "metadata": {},
   "source": [
    "Definition: Rank\n",
    "\n",
    "- the rank of a tensor is the nested depth\n",
    "- tensor with rank m + 1 *must* contains tensor with rank m with the same elements\n",
    "- rank of scalar 0"
   ]
  },
  {
   "cell_type": "code",
   "execution_count": 11,
   "id": "533e7355",
   "metadata": {
    "vscode": {
     "languageId": "racket"
    }
   },
   "outputs": [],
   "source": [
    ";; tensor-ref gets the nth element of the tensor\n",
    "(define\n",
    "  tensor-ref list-ref)\n",
    "(tensor-ref tensor-2 2)\n",
    ";; scalar predicate\n",
    "(define scalar? real?)"
   ]
  },
  {
   "cell_type": "code",
   "execution_count": 12,
   "id": "6f2aa54b",
   "metadata": {
    "vscode": {
     "languageId": "racket"
    }
   },
   "outputs": [
    {
     "data": {
      "text/html": [
       "<code>3</code>"
      ],
      "text/plain": [
       "3"
      ]
     },
     "execution_count": 12,
     "metadata": {},
     "output_type": "execute_result"
    }
   ],
   "source": [
    "(define rank\n",
    "  (lambda (t) (if (scalar? t) 0 (+ 1 (rank (tensor-ref t 0))))))\n",
    "(rank '[[[8] [9]] [[4] [7]]])"
   ]
  },
  {
   "cell_type": "markdown",
   "id": "a790e820",
   "metadata": {},
   "source": [
    "Definition: Shape\n",
    "\n",
    "- the shape of tensor is a list of number of elements for itself and nested tensor\n",
    "- shape of scalar is empty list"
   ]
  },
  {
   "cell_type": "code",
   "execution_count": 13,
   "id": "4f2ca171",
   "metadata": {
    "vscode": {
     "languageId": "racket"
    }
   },
   "outputs": [
    {
     "data": {
      "text/html": [
       "<code>'(2 3 1)</code>"
      ],
      "text/plain": [
       "'(2 3 1)"
      ]
     },
     "execution_count": 13,
     "metadata": {},
     "output_type": "execute_result"
    }
   ],
   "source": [
    "(define shape\n",
    "  (lambda (t) (if (scalar? t) '()\n",
    "    (cons (num-elements t) (shape (tensor-ref t 0))))))\n",
    "(shape 9)\n",
    "(shape '[[[8] [9]] [[4] [7]]])\n",
    "(shape '[[[5] [6] [8]] [[7] [9] [5]]])"
   ]
  },
  {
   "cell_type": "markdown",
   "id": "e3b119c2",
   "metadata": {},
   "source": [
    "## The Rule of Uniform Shape:\n",
    "All elements of a tensor must have the same shape."
   ]
  },
  {
   "cell_type": "markdown",
   "id": "38aacd38",
   "metadata": {},
   "source": [
    "## The Law of Rank and Shape\n",
    "The rank of a tensor is equal to the length of its shape"
   ]
  },
  {
   "cell_type": "code",
   "execution_count": 14,
   "id": "088f4b5b",
   "metadata": {
    "vscode": {
     "languageId": "racket"
    }
   },
   "outputs": [
    {
     "data": {
      "text/html": [
       "<code>#t</code>"
      ],
      "text/plain": [
       "#t"
      ]
     },
     "execution_count": 14,
     "metadata": {},
     "output_type": "execute_result"
    }
   ],
   "source": [
    "(define t '[[[5] [6] [8]] [[7] [9] [5]]])\n",
    "(eq? (length (shape t)) (rank t))"
   ]
  },
  {
   "cell_type": "code",
   "execution_count": 15,
   "id": "7c40c571",
   "metadata": {
    "vscode": {
     "languageId": "racket"
    }
   },
   "outputs": [],
   "source": [
    ";; tail-recursion form of rank\n",
    "(define ranked\n",
    "  (lambda (t a)\n",
    "    (cond ((scalar? t) a)\n",
    "          (else (ranked (tensor-ref t 0) (+ 1 a))))))\n",
    "(define rank (lambda (t) (ranked t 0)))"
   ]
  },
  {
   "cell_type": "code",
   "execution_count": 17,
   "id": "30f9ffd2",
   "metadata": {
    "vscode": {
     "languageId": "racket"
    }
   },
   "outputs": [
    {
     "data": {
      "text/html": [
       "<code>3</code>"
      ],
      "text/plain": [
       "3"
      ]
     },
     "execution_count": 17,
     "metadata": {},
     "output_type": "execute_result"
    }
   ],
   "source": [
    "(rank t)"
   ]
  },
  {
   "cell_type": "markdown",
   "id": "eb56261c",
   "metadata": {},
   "source": [
    "## The Law of Simple Accumulator Passing\n",
    "Tail recursion is important to handle computation complexity for large tensors.\n",
    "Implementation such as SBCL and Racket required to support optimization"
   ]
  }
 ],
 "metadata": {
  "jupytext": {
   "cell_metadata_filter": "-all"
  },
  "kernelspec": {
   "display_name": "Racket",
   "language": "racket",
   "name": "racket"
  }
 },
 "nbformat": 4,
 "nbformat_minor": 5
}
