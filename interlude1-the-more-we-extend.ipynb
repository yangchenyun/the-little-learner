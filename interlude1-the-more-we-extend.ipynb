{
 "cells": [
  {
   "cell_type": "markdown",
   "id": "2e10cf6a",
   "metadata": {},
   "source": [
    "# Interlude I\n",
    "The More We Extend, the Less Tensor We Get"
   ]
  },
  {
   "cell_type": "code",
   "execution_count": 40,
   "id": "e4152b41",
   "metadata": {
    "vscode": {
     "languageId": "racket"
    }
   },
   "outputs": [
    {
     "data": {
      "text/html": [
       "<code>3</code>"
      ],
      "text/plain": [
       "3"
      ]
     },
     "execution_count": 40,
     "metadata": {},
     "output_type": "execute_result"
    }
   ],
   "source": [
    "(require racket/include)\n",
    "(include \"ch2-the-more-we-learn-the-tenser-we-become.ss\")"
   ]
  },
  {
   "cell_type": "markdown",
   "id": "23fafa81",
   "metadata": {},
   "source": [
    "Let's build extended function used to work on scalar"
   ]
  },
  {
   "cell_type": "code",
   "execution_count": 41,
   "id": "5aaf8ff8",
   "metadata": {
    "vscode": {
     "languageId": "racket"
    }
   },
   "outputs": [
    {
     "data": {
      "text/html": [
       "<code>'((5 2) (6 0) (7 1))</code>"
      ],
      "text/plain": [
       "'((5 2) (6 0) (7 1))"
      ]
     },
     "execution_count": 41,
     "metadata": {},
     "output_type": "execute_result"
    }
   ],
   "source": [
    ";; Utility function\n",
    "(define zip\n",
    "  (lambda (l1 l2)\n",
    "    ;; (assert (eq (length l1) (length l2)))\n",
    "    (cond\n",
    "      ((and (null? l1) (null? l2)) '())\n",
    "      (else\n",
    "       (cons (list (car l1) (car l2))\n",
    "             (zip (cdr l1) (cdr l2)))))))\n",
    "(define t1 '(5 6 7))\n",
    "(define t2 '(2 0 1))\n",
    "(zip t1 t2)"
   ]
  },
  {
   "cell_type": "code",
   "execution_count": 42,
   "id": "dd995139",
   "metadata": {
    "lines_to_next_cell": 2,
    "vscode": {
     "languageId": "racket"
    }
   },
   "outputs": [
    {
     "data": {
      "text/html": [
       "<code>'((7 6 11) (10 7 10))</code>"
      ],
      "text/plain": [
       "'((7 6 11) (10 7 10))"
      ]
     },
     "execution_count": 42,
     "metadata": {},
     "output_type": "execute_result"
    }
   ],
   "source": [
    "(define add-extended\n",
    "  (lambda (x y)\n",
    "    (cond ((> (rank x) (rank y)) (add-extended y x))\n",
    "          ((= 0 (rank y)) (+ x y))\n",
    "          ((= (rank x) (rank y))\n",
    "           (map\n",
    "            (lambda (xyi) (add-extended (car xyi) (car (cdr xyi))))\n",
    "            (zip x y)))\n",
    "          ;; broadcasting rule, lower the rank of y\n",
    "          (else\n",
    "           (map (lambda (yi) (add-extended x yi)) y))\n",
    "          )))\n",
    "(add-extended 17 42)\n",
    "(add-extended '(17) '(42)) ; tensor-1, 1 element\n",
    "(add-extended '(17 42) '(11 12)) ; tensor-1, 2 elements\n",
    ";; works on tensor-2\n",
    "(add-extended '((4 6 7) (2 0 1)) '((1 2 2) (6 3 1)))\n",
    ";; works on scalar and tensor-1\n",
    "(add-extended 4 '(3 6 5))\n",
    ";; works on tensor-1 and tensor-2\n",
    "(add-extended '(6 9 1) '((4 3 8) (7 4 7)))\n",
    ";; works on scalar and tensor-3\n",
    "(add-extended 3 '((4 3 8) (7 4 7)))"
   ]
  },
  {
   "cell_type": "code",
   "execution_count": 43,
   "id": "e19476ee",
   "metadata": {
    "vscode": {
     "languageId": "racket"
    }
   },
   "outputs": [],
   "source": [
    ";; Now let's generalize the function for operator between scalar\n",
    "(define op-extended\n",
    "  (lambda (op)\n",
    "    (letrec\n",
    "        ([op-extended\n",
    "          (lambda (x y)\n",
    "            (cond ((> (rank x) (rank y)) (op-extended y x))\n",
    "                  ((= 0 (rank y)) (op x y))\n",
    "                  ((= (rank x) (rank y))\n",
    "                   (map\n",
    "                    (lambda (xyi) (op-extended (car xyi) (car (cdr xyi))))\n",
    "                    (zip x y)))\n",
    "                  ;; broadcasting rule, lower the rank of y\n",
    "                  (else\n",
    "                   (map (lambda (yi) (op-extended x yi)) y))\n",
    "                  ))])\n",
    "      op-extended\n",
    "      )))"
   ]
  },
  {
   "cell_type": "code",
   "execution_count": 44,
   "id": "f158f4f1",
   "metadata": {
    "vscode": {
     "languageId": "racket"
    }
   },
   "outputs": [
    {
     "data": {
      "text/html": [
       "<code>'((12 9 24) (21 12 21))</code>"
      ],
      "text/plain": [
       "'((12 9 24) (21 12 21))"
      ]
     },
     "execution_count": 44,
     "metadata": {},
     "output_type": "execute_result"
    }
   ],
   "source": [
    ";; test out * operator\n",
    ";; (define add-extended (op-extended +))\n",
    "(define mul-extended (op-extended *))\n",
    "(mul-extended 17 42)\n",
    "(mul-extended '(17) '(42)) ; tensor-1, 1 element\n",
    "(mul-extended '(17 42) '(11 12)) ; tensor-1, 2 elements\n",
    ";; works on tensor-2\n",
    "(mul-extended '((4 6 7) (2 0 1)) '((1 2 2) (6 3 1)))\n",
    ";; works on scalar and tensor-1\n",
    "(mul-extended 4 '(3 6 5))\n",
    ";; works on tensor-1 and tensor-2\n",
    "(mul-extended '(6 9 1) '((4 3 8) (7 4 7)))\n",
    ";; works on scalar and tensor-3\n",
    "(mul-extended 3 '((4 3 8) (7 4 7)))"
   ]
  },
  {
   "cell_type": "code",
   "execution_count": 45,
   "id": "3154ea2c",
   "metadata": {
    "vscode": {
     "languageId": "racket"
    }
   },
   "outputs": [
    {
     "data": {
      "text/html": [
       "<code>'((7 9 4) (8 5 6))</code>"
      ],
      "text/plain": [
       "'((7 9 4) (8 5 6))"
      ]
     },
     "execution_count": 45,
     "metadata": {},
     "output_type": "execute_result"
    }
   ],
   "source": [
    ";; And let's work on unary extended functions, i.e. sqrt\n",
    "(define unary-op-extended\n",
    "  (lambda (op)\n",
    "    (letrec\n",
    "        ([op-extended\n",
    "          (lambda (x)\n",
    "            (cond\n",
    "              ((scalar? x) (op x))\n",
    "              (else\n",
    "               (map (lambda (x_i) (op-extended x_i)) x))\n",
    "              ))\n",
    "          ])\n",
    "      op-extended\n",
    "      )))\n",
    "(define sqrt-extended (unary-op-extended sqrt))\n",
    "(sqrt-extended '(9 16 25))\n",
    "(sqrt-extended '((49 81 16) (64 25 36)))"
   ]
  },
  {
   "cell_type": "code",
   "execution_count": 46,
   "id": "e9c5bbd6",
   "metadata": {
    "vscode": {
     "languageId": "racket"
    }
   },
   "outputs": [
    {
     "data": {
      "text/html": [
       "<code>36.0</code>"
      ],
      "text/plain": [
       "36.0"
      ]
     },
     "execution_count": 46,
     "metadata": {},
     "output_type": "execute_result"
    }
   ],
   "source": [
    ";; Another extended function to sum up scalars of a tensor_1\n",
    "(define sum-1\n",
    "  (lambda (t)\n",
    "    (cond\n",
    "      ((null? t) 0)\n",
    "      (else (+ (tensor-ref t 0) (sum-1 (cdr t)))))))\n",
    "(sum-1 '(10.0 12.0 14.0))"
   ]
  },
  {
   "cell_type": "code",
   "execution_count": 47,
   "id": "60207f2a",
   "metadata": {
    "vscode": {
     "languageId": "racket"
    }
   },
   "outputs": [],
   "source": [
    ";; Try again using \"the Law of Simple Accumulator Passing\"\n",
    "(define summed\n",
    "  (lambda (t i a)\n",
    "    (cond\n",
    "      ((zero? i) (+ (tensor-ref t i) a))\n",
    "      (else (summed t (sub1 i) (+ a (tensor-ref t i)))))))"
   ]
  },
  {
   "cell_type": "code",
   "execution_count": 48,
   "id": "ce1f5c94",
   "metadata": {
    "vscode": {
     "languageId": "racket"
    }
   },
   "outputs": [
    {
     "data": {
      "text/html": [
       "<code>36.0</code>"
      ],
      "text/plain": [
       "36.0"
      ]
     },
     "execution_count": 48,
     "metadata": {},
     "output_type": "execute_result"
    }
   ],
   "source": [
    "(define sum-1\n",
    "  (lambda (t)\n",
    "    (summed t (sub1 (num-elements t)) 0)))\n",
    "(sum-1 '(10.0 12.0 14.0))"
   ]
  },
  {
   "cell_type": "code",
   "execution_count": 49,
   "id": "1021cfa5",
   "metadata": {
    "vscode": {
     "languageId": "racket"
    }
   },
   "outputs": [],
   "source": [
    ";; Modify the unary-op-extended to incorporate sum-1\n",
    "(define unary-op-extended\n",
    "  (lambda (op op_rank)\n",
    "    (letrec\n",
    "        ([op-extended\n",
    "          (lambda (x)\n",
    "            (cond\n",
    "              ((= (rank x) op_rank) (op x))  ; allow specify the op_rank stop descend\n",
    "              (else\n",
    "               (map (lambda (x_i) (op-extended x_i)) x))\n",
    "              ))\n",
    "          ])\n",
    "      op-extended\n",
    "      )))"
   ]
  },
  {
   "cell_type": "code",
   "execution_count": 50,
   "id": "2ddf95d5",
   "metadata": {
    "vscode": {
     "languageId": "racket"
    }
   },
   "outputs": [
    {
     "data": {
      "text/html": [
       "<code>'((7 9 4) (8 5 6))</code>"
      ],
      "text/plain": [
       "'((7 9 4) (8 5 6))"
      ]
     },
     "execution_count": 50,
     "metadata": {},
     "output_type": "execute_result"
    }
   ],
   "source": [
    ";; continue working for sqrt\n",
    "(define sqrt-extended (unary-op-extended sqrt 0))\n",
    "(sqrt-extended '(9 16 25))\n",
    "(sqrt-extended '((49 81 16) (64 25 36)))"
   ]
  },
  {
   "cell_type": "code",
   "execution_count": 51,
   "id": "7916b21a",
   "metadata": {
    "vscode": {
     "languageId": "racket"
    }
   },
   "outputs": [
    {
     "data": {
      "text/html": [
       "<code>'(146 125)</code>"
      ],
      "text/plain": [
       "'(146 125)"
      ]
     },
     "execution_count": 51,
     "metadata": {},
     "output_type": "execute_result"
    }
   ],
   "source": [
    ";; also works for sum\n",
    "(define sum-extended (unary-op-extended sum-1 1))\n",
    "(sum-extended '(9 16 25))\n",
    "(sum-extended '((49 81 16) (64 25 36)))"
   ]
  },
  {
   "cell_type": "markdown",
   "id": "3aab6281",
   "metadata": {},
   "source": [
    "The Law of Sum\n",
    "For a tensor t with rank r > 0, the rank of (sum t) is r − 1."
   ]
  },
  {
   "cell_type": "code",
   "execution_count": 52,
   "id": "a377dbc8",
   "metadata": {
    "vscode": {
     "languageId": "racket"
    }
   },
   "outputs": [
    {
     "data": {
      "text/html": [
       "<code>'(14 34 26 50)</code>"
      ],
      "text/plain": [
       "'(14 34 26 50)"
      ]
     },
     "execution_count": 52,
     "metadata": {},
     "output_type": "execute_result"
    }
   ],
   "source": [
    ";; Composed function with extended functions work in extended fashion too!\n",
    ";; let's redefine line using extended functions from chapter 1\n",
    "(define line\n",
    "    (lambda (x)\n",
    "        (lambda (θ) (add-extended (second θ) (mul-extended x (first θ))))))\n",
    "((line '(2 7 5 11)) '(4 6))"
   ]
  }
 ],
 "metadata": {
  "jupytext": {
   "cell_metadata_filter": "-all"
  },
  "kernelspec": {
   "display_name": "Racket",
   "language": "racket",
   "name": "racket"
  }
 },
 "nbformat": 4,
 "nbformat_minor": 5
}
